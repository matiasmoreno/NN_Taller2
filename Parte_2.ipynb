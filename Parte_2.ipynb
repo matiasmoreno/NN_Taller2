{
  "nbformat": 4,
  "nbformat_minor": 0,
  "metadata": {
    "colab": {
      "name": "CNN Parte_2.ipynb",
      "provenance": [],
      "collapsed_sections": [],
      "toc_visible": true
    },
    "kernelspec": {
      "name": "python3",
      "display_name": "Python 3"
    }
  },
  "cells": [
    {
      "cell_type": "code",
      "metadata": {
        "id": "KdeNRK1UKpe7",
        "colab_type": "code",
        "colab": {}
      },
      "source": [
        "!pip install -q kaggle"
      ],
      "execution_count": null,
      "outputs": []
    },
    {
      "cell_type": "markdown",
      "metadata": {
        "id": "PsjrSUUoT2kR",
        "colab_type": "text"
      },
      "source": [
        "###Subir token kaggle"
      ]
    },
    {
      "cell_type": "code",
      "metadata": {
        "id": "-D8Qd8pGQ12d",
        "colab_type": "code",
        "colab": {
          "resources": {
            "http://localhost:8080/nbextensions/google.colab/files.js": {
              "data": "Ly8gQ29weXJpZ2h0IDIwMTcgR29vZ2xlIExMQwovLwovLyBMaWNlbnNlZCB1bmRlciB0aGUgQXBhY2hlIExpY2Vuc2UsIFZlcnNpb24gMi4wICh0aGUgIkxpY2Vuc2UiKTsKLy8geW91IG1heSBub3QgdXNlIHRoaXMgZmlsZSBleGNlcHQgaW4gY29tcGxpYW5jZSB3aXRoIHRoZSBMaWNlbnNlLgovLyBZb3UgbWF5IG9idGFpbiBhIGNvcHkgb2YgdGhlIExpY2Vuc2UgYXQKLy8KLy8gICAgICBodHRwOi8vd3d3LmFwYWNoZS5vcmcvbGljZW5zZXMvTElDRU5TRS0yLjAKLy8KLy8gVW5sZXNzIHJlcXVpcmVkIGJ5IGFwcGxpY2FibGUgbGF3IG9yIGFncmVlZCB0byBpbiB3cml0aW5nLCBzb2Z0d2FyZQovLyBkaXN0cmlidXRlZCB1bmRlciB0aGUgTGljZW5zZSBpcyBkaXN0cmlidXRlZCBvbiBhbiAiQVMgSVMiIEJBU0lTLAovLyBXSVRIT1VUIFdBUlJBTlRJRVMgT1IgQ09ORElUSU9OUyBPRiBBTlkgS0lORCwgZWl0aGVyIGV4cHJlc3Mgb3IgaW1wbGllZC4KLy8gU2VlIHRoZSBMaWNlbnNlIGZvciB0aGUgc3BlY2lmaWMgbGFuZ3VhZ2UgZ292ZXJuaW5nIHBlcm1pc3Npb25zIGFuZAovLyBsaW1pdGF0aW9ucyB1bmRlciB0aGUgTGljZW5zZS4KCi8qKgogKiBAZmlsZW92ZXJ2aWV3IEhlbHBlcnMgZm9yIGdvb2dsZS5jb2xhYiBQeXRob24gbW9kdWxlLgogKi8KKGZ1bmN0aW9uKHNjb3BlKSB7CmZ1bmN0aW9uIHNwYW4odGV4dCwgc3R5bGVBdHRyaWJ1dGVzID0ge30pIHsKICBjb25zdCBlbGVtZW50ID0gZG9jdW1lbnQuY3JlYXRlRWxlbWVudCgnc3BhbicpOwogIGVsZW1lbnQudGV4dENvbnRlbnQgPSB0ZXh0OwogIGZvciAoY29uc3Qga2V5IG9mIE9iamVjdC5rZXlzKHN0eWxlQXR0cmlidXRlcykpIHsKICAgIGVsZW1lbnQuc3R5bGVba2V5XSA9IHN0eWxlQXR0cmlidXRlc1trZXldOwogIH0KICByZXR1cm4gZWxlbWVudDsKfQoKLy8gTWF4IG51bWJlciBvZiBieXRlcyB3aGljaCB3aWxsIGJlIHVwbG9hZGVkIGF0IGEgdGltZS4KY29uc3QgTUFYX1BBWUxPQURfU0laRSA9IDEwMCAqIDEwMjQ7CgpmdW5jdGlvbiBfdXBsb2FkRmlsZXMoaW5wdXRJZCwgb3V0cHV0SWQpIHsKICBjb25zdCBzdGVwcyA9IHVwbG9hZEZpbGVzU3RlcChpbnB1dElkLCBvdXRwdXRJZCk7CiAgY29uc3Qgb3V0cHV0RWxlbWVudCA9IGRvY3VtZW50LmdldEVsZW1lbnRCeUlkKG91dHB1dElkKTsKICAvLyBDYWNoZSBzdGVwcyBvbiB0aGUgb3V0cHV0RWxlbWVudCB0byBtYWtlIGl0IGF2YWlsYWJsZSBmb3IgdGhlIG5leHQgY2FsbAogIC8vIHRvIHVwbG9hZEZpbGVzQ29udGludWUgZnJvbSBQeXRob24uCiAgb3V0cHV0RWxlbWVudC5zdGVwcyA9IHN0ZXBzOwoKICByZXR1cm4gX3VwbG9hZEZpbGVzQ29udGludWUob3V0cHV0SWQpOwp9CgovLyBUaGlzIGlzIHJvdWdobHkgYW4gYXN5bmMgZ2VuZXJhdG9yIChub3Qgc3VwcG9ydGVkIGluIHRoZSBicm93c2VyIHlldCksCi8vIHdoZXJlIHRoZXJlIGFyZSBtdWx0aXBsZSBhc3luY2hyb25vdXMgc3RlcHMgYW5kIHRoZSBQeXRob24gc2lkZSBpcyBnb2luZwovLyB0byBwb2xsIGZvciBjb21wbGV0aW9uIG9mIGVhY2ggc3RlcC4KLy8gVGhpcyB1c2VzIGEgUHJvbWlzZSB0byBibG9jayB0aGUgcHl0aG9uIHNpZGUgb24gY29tcGxldGlvbiBvZiBlYWNoIHN0ZXAsCi8vIHRoZW4gcGFzc2VzIHRoZSByZXN1bHQgb2YgdGhlIHByZXZpb3VzIHN0ZXAgYXMgdGhlIGlucHV0IHRvIHRoZSBuZXh0IHN0ZXAuCmZ1bmN0aW9uIF91cGxvYWRGaWxlc0NvbnRpbnVlKG91dHB1dElkKSB7CiAgY29uc3Qgb3V0cHV0RWxlbWVudCA9IGRvY3VtZW50LmdldEVsZW1lbnRCeUlkKG91dHB1dElkKTsKICBjb25zdCBzdGVwcyA9IG91dHB1dEVsZW1lbnQuc3RlcHM7CgogIGNvbnN0IG5leHQgPSBzdGVwcy5uZXh0KG91dHB1dEVsZW1lbnQubGFzdFByb21pc2VWYWx1ZSk7CiAgcmV0dXJuIFByb21pc2UucmVzb2x2ZShuZXh0LnZhbHVlLnByb21pc2UpLnRoZW4oKHZhbHVlKSA9PiB7CiAgICAvLyBDYWNoZSB0aGUgbGFzdCBwcm9taXNlIHZhbHVlIHRvIG1ha2UgaXQgYXZhaWxhYmxlIHRvIHRoZSBuZXh0CiAgICAvLyBzdGVwIG9mIHRoZSBnZW5lcmF0b3IuCiAgICBvdXRwdXRFbGVtZW50Lmxhc3RQcm9taXNlVmFsdWUgPSB2YWx1ZTsKICAgIHJldHVybiBuZXh0LnZhbHVlLnJlc3BvbnNlOwogIH0pOwp9CgovKioKICogR2VuZXJhdG9yIGZ1bmN0aW9uIHdoaWNoIGlzIGNhbGxlZCBiZXR3ZWVuIGVhY2ggYXN5bmMgc3RlcCBvZiB0aGUgdXBsb2FkCiAqIHByb2Nlc3MuCiAqIEBwYXJhbSB7c3RyaW5nfSBpbnB1dElkIEVsZW1lbnQgSUQgb2YgdGhlIGlucHV0IGZpbGUgcGlja2VyIGVsZW1lbnQuCiAqIEBwYXJhbSB7c3RyaW5nfSBvdXRwdXRJZCBFbGVtZW50IElEIG9mIHRoZSBvdXRwdXQgZGlzcGxheS4KICogQHJldHVybiB7IUl0ZXJhYmxlPCFPYmplY3Q+fSBJdGVyYWJsZSBvZiBuZXh0IHN0ZXBzLgogKi8KZnVuY3Rpb24qIHVwbG9hZEZpbGVzU3RlcChpbnB1dElkLCBvdXRwdXRJZCkgewogIGNvbnN0IGlucHV0RWxlbWVudCA9IGRvY3VtZW50LmdldEVsZW1lbnRCeUlkKGlucHV0SWQpOwogIGlucHV0RWxlbWVudC5kaXNhYmxlZCA9IGZhbHNlOwoKICBjb25zdCBvdXRwdXRFbGVtZW50ID0gZG9jdW1lbnQuZ2V0RWxlbWVudEJ5SWQob3V0cHV0SWQpOwogIG91dHB1dEVsZW1lbnQuaW5uZXJIVE1MID0gJyc7CgogIGNvbnN0IHBpY2tlZFByb21pc2UgPSBuZXcgUHJvbWlzZSgocmVzb2x2ZSkgPT4gewogICAgaW5wdXRFbGVtZW50LmFkZEV2ZW50TGlzdGVuZXIoJ2NoYW5nZScsIChlKSA9PiB7CiAgICAgIHJlc29sdmUoZS50YXJnZXQuZmlsZXMpOwogICAgfSk7CiAgfSk7CgogIGNvbnN0IGNhbmNlbCA9IGRvY3VtZW50LmNyZWF0ZUVsZW1lbnQoJ2J1dHRvbicpOwogIGlucHV0RWxlbWVudC5wYXJlbnRFbGVtZW50LmFwcGVuZENoaWxkKGNhbmNlbCk7CiAgY2FuY2VsLnRleHRDb250ZW50ID0gJ0NhbmNlbCB1cGxvYWQnOwogIGNvbnN0IGNhbmNlbFByb21pc2UgPSBuZXcgUHJvbWlzZSgocmVzb2x2ZSkgPT4gewogICAgY2FuY2VsLm9uY2xpY2sgPSAoKSA9PiB7CiAgICAgIHJlc29sdmUobnVsbCk7CiAgICB9OwogIH0pOwoKICAvLyBXYWl0IGZvciB0aGUgdXNlciB0byBwaWNrIHRoZSBmaWxlcy4KICBjb25zdCBmaWxlcyA9IHlpZWxkIHsKICAgIHByb21pc2U6IFByb21pc2UucmFjZShbcGlja2VkUHJvbWlzZSwgY2FuY2VsUHJvbWlzZV0pLAogICAgcmVzcG9uc2U6IHsKICAgICAgYWN0aW9uOiAnc3RhcnRpbmcnLAogICAgfQogIH07CgogIGNhbmNlbC5yZW1vdmUoKTsKCiAgLy8gRGlzYWJsZSB0aGUgaW5wdXQgZWxlbWVudCBzaW5jZSBmdXJ0aGVyIHBpY2tzIGFyZSBub3QgYWxsb3dlZC4KICBpbnB1dEVsZW1lbnQuZGlzYWJsZWQgPSB0cnVlOwoKICBpZiAoIWZpbGVzKSB7CiAgICByZXR1cm4gewogICAgICByZXNwb25zZTogewogICAgICAgIGFjdGlvbjogJ2NvbXBsZXRlJywKICAgICAgfQogICAgfTsKICB9CgogIGZvciAoY29uc3QgZmlsZSBvZiBmaWxlcykgewogICAgY29uc3QgbGkgPSBkb2N1bWVudC5jcmVhdGVFbGVtZW50KCdsaScpOwogICAgbGkuYXBwZW5kKHNwYW4oZmlsZS5uYW1lLCB7Zm9udFdlaWdodDogJ2JvbGQnfSkpOwogICAgbGkuYXBwZW5kKHNwYW4oCiAgICAgICAgYCgke2ZpbGUudHlwZSB8fCAnbi9hJ30pIC0gJHtmaWxlLnNpemV9IGJ5dGVzLCBgICsKICAgICAgICBgbGFzdCBtb2RpZmllZDogJHsKICAgICAgICAgICAgZmlsZS5sYXN0TW9kaWZpZWREYXRlID8gZmlsZS5sYXN0TW9kaWZpZWREYXRlLnRvTG9jYWxlRGF0ZVN0cmluZygpIDoKICAgICAgICAgICAgICAgICAgICAgICAgICAgICAgICAgICAgJ24vYSd9IC0gYCkpOwogICAgY29uc3QgcGVyY2VudCA9IHNwYW4oJzAlIGRvbmUnKTsKICAgIGxpLmFwcGVuZENoaWxkKHBlcmNlbnQpOwoKICAgIG91dHB1dEVsZW1lbnQuYXBwZW5kQ2hpbGQobGkpOwoKICAgIGNvbnN0IGZpbGVEYXRhUHJvbWlzZSA9IG5ldyBQcm9taXNlKChyZXNvbHZlKSA9PiB7CiAgICAgIGNvbnN0IHJlYWRlciA9IG5ldyBGaWxlUmVhZGVyKCk7CiAgICAgIHJlYWRlci5vbmxvYWQgPSAoZSkgPT4gewogICAgICAgIHJlc29sdmUoZS50YXJnZXQucmVzdWx0KTsKICAgICAgfTsKICAgICAgcmVhZGVyLnJlYWRBc0FycmF5QnVmZmVyKGZpbGUpOwogICAgfSk7CiAgICAvLyBXYWl0IGZvciB0aGUgZGF0YSB0byBiZSByZWFkeS4KICAgIGxldCBmaWxlRGF0YSA9IHlpZWxkIHsKICAgICAgcHJvbWlzZTogZmlsZURhdGFQcm9taXNlLAogICAgICByZXNwb25zZTogewogICAgICAgIGFjdGlvbjogJ2NvbnRpbnVlJywKICAgICAgfQogICAgfTsKCiAgICAvLyBVc2UgYSBjaHVua2VkIHNlbmRpbmcgdG8gYXZvaWQgbWVzc2FnZSBzaXplIGxpbWl0cy4gU2VlIGIvNjIxMTU2NjAuCiAgICBsZXQgcG9zaXRpb24gPSAwOwogICAgd2hpbGUgKHBvc2l0aW9uIDwgZmlsZURhdGEuYnl0ZUxlbmd0aCkgewogICAgICBjb25zdCBsZW5ndGggPSBNYXRoLm1pbihmaWxlRGF0YS5ieXRlTGVuZ3RoIC0gcG9zaXRpb24sIE1BWF9QQVlMT0FEX1NJWkUpOwogICAgICBjb25zdCBjaHVuayA9IG5ldyBVaW50OEFycmF5KGZpbGVEYXRhLCBwb3NpdGlvbiwgbGVuZ3RoKTsKICAgICAgcG9zaXRpb24gKz0gbGVuZ3RoOwoKICAgICAgY29uc3QgYmFzZTY0ID0gYnRvYShTdHJpbmcuZnJvbUNoYXJDb2RlLmFwcGx5KG51bGwsIGNodW5rKSk7CiAgICAgIHlpZWxkIHsKICAgICAgICByZXNwb25zZTogewogICAgICAgICAgYWN0aW9uOiAnYXBwZW5kJywKICAgICAgICAgIGZpbGU6IGZpbGUubmFtZSwKICAgICAgICAgIGRhdGE6IGJhc2U2NCwKICAgICAgICB9LAogICAgICB9OwogICAgICBwZXJjZW50LnRleHRDb250ZW50ID0KICAgICAgICAgIGAke01hdGgucm91bmQoKHBvc2l0aW9uIC8gZmlsZURhdGEuYnl0ZUxlbmd0aCkgKiAxMDApfSUgZG9uZWA7CiAgICB9CiAgfQoKICAvLyBBbGwgZG9uZS4KICB5aWVsZCB7CiAgICByZXNwb25zZTogewogICAgICBhY3Rpb246ICdjb21wbGV0ZScsCiAgICB9CiAgfTsKfQoKc2NvcGUuZ29vZ2xlID0gc2NvcGUuZ29vZ2xlIHx8IHt9OwpzY29wZS5nb29nbGUuY29sYWIgPSBzY29wZS5nb29nbGUuY29sYWIgfHwge307CnNjb3BlLmdvb2dsZS5jb2xhYi5fZmlsZXMgPSB7CiAgX3VwbG9hZEZpbGVzLAogIF91cGxvYWRGaWxlc0NvbnRpbnVlLAp9Owp9KShzZWxmKTsK",
              "ok": true,
              "headers": [
                [
                  "content-type",
                  "application/javascript"
                ]
              ],
              "status": 200,
              "status_text": ""
            }
          },
          "base_uri": "https://localhost:8080/",
          "height": 89
        },
        "outputId": "e7509f40-c1e5-46e5-ab1e-a9938240e090"
      },
      "source": [
        "from google.colab import files\n",
        "files.upload()"
      ],
      "execution_count": null,
      "outputs": [
        {
          "output_type": "display_data",
          "data": {
            "text/html": [
              "\n",
              "     <input type=\"file\" id=\"files-68d89345-4b54-4f43-9820-14cbdaefdb53\" name=\"files[]\" multiple disabled\n",
              "        style=\"border:none\" />\n",
              "     <output id=\"result-68d89345-4b54-4f43-9820-14cbdaefdb53\">\n",
              "      Upload widget is only available when the cell has been executed in the\n",
              "      current browser session. Please rerun this cell to enable.\n",
              "      </output>\n",
              "      <script src=\"/nbextensions/google.colab/files.js\"></script> "
            ],
            "text/plain": [
              "<IPython.core.display.HTML object>"
            ]
          },
          "metadata": {
            "tags": []
          }
        },
        {
          "output_type": "stream",
          "text": [
            "Saving kaggle.json to kaggle.json\n"
          ],
          "name": "stdout"
        },
        {
          "output_type": "execute_result",
          "data": {
            "text/plain": [
              "{'kaggle.json': b'{\"username\":\"robertoandrscalfulef\",\"key\":\"01e2bfb5357a163ff4efa29d0a6b4b78\"}'}"
            ]
          },
          "metadata": {
            "tags": []
          },
          "execution_count": 2
        }
      ]
    },
    {
      "cell_type": "code",
      "metadata": {
        "id": "jktYREzTU_Ni",
        "colab_type": "code",
        "colab": {}
      },
      "source": [
        "!mkdir -p ~/.kaggle\n",
        "!cp kaggle.json ~/.kaggle/"
      ],
      "execution_count": null,
      "outputs": []
    },
    {
      "cell_type": "markdown",
      "metadata": {
        "id": "8NZ20j_ZVKDa",
        "colab_type": "text"
      },
      "source": [
        "###Descargar archivos"
      ]
    },
    {
      "cell_type": "code",
      "metadata": {
        "id": "pMCe6zc3Q4ib",
        "colab_type": "code",
        "colab": {
          "base_uri": "https://localhost:8080/",
          "height": 329
        },
        "outputId": "54ba4f7a-2c8e-4a54-a9d3-8e5a71d9dd9d"
      },
      "source": [
        "!kaggle competitions download taller2ann-usm -f test_source_tweets.txt \n",
        "!kaggle competitions download taller2ann-usm -f train_labels.csv \n",
        "!kaggle competitions download taller2ann-usm -f train_source_tweets.txt\n",
        "\n",
        "!kaggle datasets download -d watts2/glove6b50dtxt\n",
        "!unzip glove6b50dtxt.zip"
      ],
      "execution_count": null,
      "outputs": [
        {
          "output_type": "stream",
          "text": [
            "Warning: Your Kaggle API key is readable by other users on this system! To fix this, you can run 'chmod 600 /root/.kaggle/kaggle.json'\n",
            "Downloading test_source_tweets.txt to /content\n",
            "  0% 0.00/23.9k [00:00<?, ?B/s]\n",
            "100% 23.9k/23.9k [00:00<00:00, 22.9MB/s]\n",
            "Warning: Your Kaggle API key is readable by other users on this system! To fix this, you can run 'chmod 600 /root/.kaggle/kaggle.json'\n",
            "Downloading train_labels.csv to /content\n",
            "  0% 0.00/52.3k [00:00<?, ?B/s]\n",
            "100% 52.3k/52.3k [00:00<00:00, 44.1MB/s]\n",
            "Warning: Your Kaggle API key is readable by other users on this system! To fix this, you can run 'chmod 600 /root/.kaggle/kaggle.json'\n",
            "Downloading train_source_tweets.txt to /content\n",
            "  0% 0.00/213k [00:00<?, ?B/s]\n",
            "100% 213k/213k [00:00<00:00, 29.5MB/s]\n",
            "Warning: Your Kaggle API key is readable by other users on this system! To fix this, you can run 'chmod 600 /root/.kaggle/kaggle.json'\n",
            "Downloading glove6b50dtxt.zip to /content\n",
            " 96% 65.0M/67.7M [00:00<00:00, 63.4MB/s]\n",
            "100% 67.7M/67.7M [00:00<00:00, 125MB/s] \n",
            "Archive:  glove6b50dtxt.zip\n",
            "  inflating: glove.6B.50d.txt        \n"
          ],
          "name": "stdout"
        }
      ]
    },
    {
      "cell_type": "markdown",
      "metadata": {
        "id": "GImBiGCDPMq3",
        "colab_type": "text"
      },
      "source": [
        "###Importar librerias a utilizar"
      ]
    },
    {
      "cell_type": "code",
      "metadata": {
        "id": "Xm7lth0KTGyJ",
        "colab_type": "code",
        "colab": {
          "base_uri": "https://localhost:8080/",
          "height": 138
        },
        "outputId": "4415f8c2-33ca-4d32-dd31-4e3a25fc0ab1"
      },
      "source": [
        "import nltk\n",
        "import pandas as pd\n",
        "import numpy as np\n",
        "nltk.download('punkt')\n",
        "nltk.download('wordnet')\n",
        "nltk.download('stopwords')"
      ],
      "execution_count": null,
      "outputs": [
        {
          "output_type": "stream",
          "text": [
            "[nltk_data] Downloading package punkt to /root/nltk_data...\n",
            "[nltk_data]   Unzipping tokenizers/punkt.zip.\n",
            "[nltk_data] Downloading package wordnet to /root/nltk_data...\n",
            "[nltk_data]   Unzipping corpora/wordnet.zip.\n",
            "[nltk_data] Downloading package stopwords to /root/nltk_data...\n",
            "[nltk_data]   Unzipping corpora/stopwords.zip.\n"
          ],
          "name": "stdout"
        },
        {
          "output_type": "execute_result",
          "data": {
            "text/plain": [
              "True"
            ]
          },
          "metadata": {
            "tags": []
          },
          "execution_count": 5
        }
      ]
    },
    {
      "cell_type": "markdown",
      "metadata": {
        "id": "qBKbeGA9PQxz",
        "colab_type": "text"
      },
      "source": [
        "###Cargar dataset"
      ]
    },
    {
      "cell_type": "code",
      "metadata": {
        "id": "A0OFFSr1V3C-",
        "colab_type": "code",
        "colab": {
          "base_uri": "https://localhost:8080/",
          "height": 202
        },
        "outputId": "a712602b-0bea-4af5-f877-98999b345c9c"
      },
      "source": [
        "df = pd.read_csv('train_labels.csv')\n",
        "df.head()"
      ],
      "execution_count": null,
      "outputs": [
        {
          "output_type": "execute_result",
          "data": {
            "text/html": [
              "<div>\n",
              "<style scoped>\n",
              "    .dataframe tbody tr th:only-of-type {\n",
              "        vertical-align: middle;\n",
              "    }\n",
              "\n",
              "    .dataframe tbody tr th {\n",
              "        vertical-align: top;\n",
              "    }\n",
              "\n",
              "    .dataframe thead th {\n",
              "        text-align: right;\n",
              "    }\n",
              "</style>\n",
              "<table border=\"1\" class=\"dataframe\">\n",
              "  <thead>\n",
              "    <tr style=\"text-align: right;\">\n",
              "      <th></th>\n",
              "      <th>label</th>\n",
              "      <th>id</th>\n",
              "    </tr>\n",
              "  </thead>\n",
              "  <tbody>\n",
              "    <tr>\n",
              "      <th>0</th>\n",
              "      <td>non-rumor</td>\n",
              "      <td>692735698349199360</td>\n",
              "    </tr>\n",
              "    <tr>\n",
              "      <th>1</th>\n",
              "      <td>unverified</td>\n",
              "      <td>525008463819464704</td>\n",
              "    </tr>\n",
              "    <tr>\n",
              "      <th>2</th>\n",
              "      <td>false</td>\n",
              "      <td>505611045897924608</td>\n",
              "    </tr>\n",
              "    <tr>\n",
              "      <th>3</th>\n",
              "      <td>non-rumor</td>\n",
              "      <td>693466724822323200</td>\n",
              "    </tr>\n",
              "    <tr>\n",
              "      <th>4</th>\n",
              "      <td>true</td>\n",
              "      <td>510922415468449792</td>\n",
              "    </tr>\n",
              "  </tbody>\n",
              "</table>\n",
              "</div>"
            ],
            "text/plain": [
              "        label                  id\n",
              "0   non-rumor  692735698349199360\n",
              "1  unverified  525008463819464704\n",
              "2       false  505611045897924608\n",
              "3   non-rumor  693466724822323200\n",
              "4        true  510922415468449792"
            ]
          },
          "metadata": {
            "tags": []
          },
          "execution_count": 6
        }
      ]
    },
    {
      "cell_type": "code",
      "metadata": {
        "id": "j6XoCLikaNLL",
        "colab_type": "code",
        "colab": {}
      },
      "source": [
        "# --------------------------TRAIN ------------------\n",
        "ftr = open(\"train_source_tweets.txt\", \"r\",  encoding=\"ISO-8859-1\")\n",
        "rows = [line.split(\"\\t\",1) for line in ftr.readlines()]\n",
        "df_train = pd.DataFrame(rows, columns=['id','Text'])\n",
        "\n",
        "# --------------------------TEST--------------------\n",
        "ftr = open(\"test_source_tweets.txt\", \"r\",  encoding=\"ISO-8859-1\")\n",
        "rows = [line.split(\"\\t\",1) for line in ftr.readlines()]\n",
        "df_test = pd.DataFrame(rows, columns=['id','Text'])\n",
        "\n",
        "df_train_text = df_train.Text\n",
        "df_test_text = df_test.Text\n",
        "\n",
        "labels_train = df.label\n",
        "\n",
        "# Conjunto con todos los datos de entrenamiento \n",
        "df_final_text = df_train_text\n",
        "labels_final = labels_train"
      ],
      "execution_count": null,
      "outputs": []
    },
    {
      "cell_type": "markdown",
      "metadata": {
        "id": "5U03IEyqPUXs",
        "colab_type": "text"
      },
      "source": [
        "###Crear conjunto de train  validacion"
      ]
    },
    {
      "cell_type": "code",
      "metadata": {
        "id": "SYhk4Hl8hPHa",
        "colab_type": "code",
        "colab": {}
      },
      "source": [
        "from sklearn.model_selection import train_test_split\n",
        "df_train_text, df_val_text, labels_train, labels_val = train_test_split(df_train_text, labels_train, test_size= 0.2, random_state=0)"
      ],
      "execution_count": null,
      "outputs": []
    },
    {
      "cell_type": "markdown",
      "metadata": {
        "id": "1zAiulBBWC8Z",
        "colab_type": "text"
      },
      "source": [
        "###Preprocesamiento de los datos"
      ]
    },
    {
      "cell_type": "code",
      "metadata": {
        "id": "T_7kBpwZWRwO",
        "colab_type": "code",
        "colab": {
          "base_uri": "https://localhost:8080/",
          "height": 34
        },
        "outputId": "24f16806-d3bd-40e4-81bd-1c18aa6a71d5"
      },
      "source": [
        "import re, time\n",
        "from nltk.corpus import stopwords\n",
        "from nltk import WordNetLemmatizer, word_tokenize\n",
        "\n",
        "def base_word(word):\n",
        "    wordlemmatizer = WordNetLemmatizer()\n",
        "    return wordlemmatizer.lemmatize(word) \n",
        "def word_extractor(text):\n",
        "    commonwords = stopwords.words('english')\n",
        "    text = re.sub(r'([a-z])\\1+', r'\\1\\1',text) #substitute multiple letter by two\n",
        "    text = re.sub(r'URL','',text)\n",
        "    words = \"\"\n",
        "    wordtokens = [ base_word(word.lower()) for word in word_tokenize(text) ]\n",
        "    for word in wordtokens:\n",
        "        if word not in commonwords: #delete stopwords\n",
        "            words+=\" \"+word\n",
        "    return words\n",
        "\n",
        "texts_train = [word_extractor(text) for text in df_train_text]\n",
        "texts_val = [word_extractor(text) for text in df_val_text]\n",
        "texts_test = [word_extractor(text) for text in df_test_text]\n",
        "texts_final = [word_extractor(text) for text in df_final_text]\n",
        "\n",
        "print(len(texts_train))"
      ],
      "execution_count": null,
      "outputs": [
        {
          "output_type": "stream",
          "text": [
            "1540\n"
          ],
          "name": "stdout"
        }
      ]
    },
    {
      "cell_type": "markdown",
      "metadata": {
        "id": "fj_grPyxPcP2",
        "colab_type": "text"
      },
      "source": [
        "###Codificar las etiquetas"
      ]
    },
    {
      "cell_type": "code",
      "metadata": {
        "id": "DH58Jl0Oh-yW",
        "colab_type": "code",
        "colab": {
          "base_uri": "https://localhost:8080/",
          "height": 34
        },
        "outputId": "87a4201e-582b-4c12-c931-ed76988f96c6"
      },
      "source": [
        "from sklearn import preprocessing\n",
        "from keras.utils import to_categorical\n",
        "le = preprocessing.LabelEncoder()\n",
        "le.fit(labels_train)\n",
        "\n",
        "labels_train = le.transform(labels_train)\n",
        "labels_train = to_categorical(labels_train)\n",
        "\n",
        "le.fit(labels_val)\n",
        "\n",
        "labels_val = le.transform(labels_val)\n",
        "labels_val = to_categorical(labels_val)\n",
        "\n",
        "le.fit(labels_final)\n",
        "labels_final = le.transform(labels_final)\n",
        "labels_final = to_categorical(labels_final)\n"
      ],
      "execution_count": null,
      "outputs": [
        {
          "output_type": "stream",
          "text": [
            "Using TensorFlow backend.\n"
          ],
          "name": "stderr"
        }
      ]
    },
    {
      "cell_type": "code",
      "metadata": {
        "id": "fVzsfA8Br2IQ",
        "colab_type": "code",
        "colab": {}
      },
      "source": [
        "y_train = labels_train\n",
        "y_val = labels_val\n",
        "\n",
        "y_final = labels_final"
      ],
      "execution_count": null,
      "outputs": []
    },
    {
      "cell_type": "markdown",
      "metadata": {
        "id": "l0aTPiUNP40a",
        "colab_type": "text"
      },
      "source": [
        "###Tokernizar los conjuntos de entrenamiento, validacion y test"
      ]
    },
    {
      "cell_type": "code",
      "metadata": {
        "id": "i1YjwoQjqzBW",
        "colab_type": "code",
        "colab": {
          "base_uri": "https://localhost:8080/",
          "height": 69
        },
        "outputId": "9d23c8d3-4462-42f0-ff72-2ac5b8e49f38"
      },
      "source": [
        "from keras.preprocessing.text import Tokenizer\n",
        "\n",
        "tokenizer = Tokenizer(num_words=5000)\n",
        "tokenizer.fit_on_texts(df_train_text)\n",
        "\n",
        "X_train = tokenizer.texts_to_sequences(df_train_text)\n",
        "X_val = tokenizer.texts_to_sequences(df_val_text)\n",
        "X_final = tokenizer.texts_to_sequences(df_final_text)\n",
        "X_test = tokenizer.texts_to_sequences(df_test_text)\n",
        "\n",
        "vocab_size = len(tokenizer.word_index) + 1  # Adding 1 because of reserved 0 index\n",
        "\n",
        "print(df_train_text[2])\n",
        "print(X_train[2])"
      ],
      "execution_count": null,
      "outputs": [
        {
          "output_type": "stream",
          "text": [
            "15 year old who \"swatted\" gamer convicted of domestic terrorism; 25 years to life in federal prison URL\n",
            "\n",
            "[37, 52, 12, 498, 181, 10, 499, 195, 11, 2, 73, 6, 22, 429, 78, 1]\n"
          ],
          "name": "stdout"
        }
      ]
    },
    {
      "cell_type": "markdown",
      "metadata": {
        "id": "GVi0iJNcVn04",
        "colab_type": "text"
      },
      "source": [
        "###Estandarizar el largo de los textos"
      ]
    },
    {
      "cell_type": "code",
      "metadata": {
        "id": "EKlDOmr3rTco",
        "colab_type": "code",
        "colab": {
          "base_uri": "https://localhost:8080/",
          "height": 86
        },
        "outputId": "00749de6-ccb3-4a15-d8c2-b9674f463341"
      },
      "source": [
        "from keras.preprocessing.sequence import pad_sequences\n",
        "\n",
        "maxlen = 50\n",
        "\n",
        "X_train = pad_sequences(X_train, padding='post', maxlen=maxlen)\n",
        "X_val = pad_sequences(X_val, padding='post', maxlen=maxlen)\n",
        "X_test = pad_sequences(X_test, padding='post', maxlen=maxlen)\n",
        "x_final = pad_sequences(X_final,padding= 'post', maxlen=maxlen)\n",
        "print(X_train[0, :])"
      ],
      "execution_count": null,
      "outputs": [
        {
          "output_type": "stream",
          "text": [
            "[ 588 2385 2386 2387 1512   13  368  702   43 2388  262  874  703  220\n",
            "    1    0    0    0    0    0    0    0    0    0    0    0    0    0\n",
            "    0    0    0    0    0    0    0    0    0    0    0    0    0    0\n",
            "    0    0    0    0    0    0    0    0]\n"
          ],
          "name": "stdout"
        }
      ]
    },
    {
      "cell_type": "markdown",
      "metadata": {
        "id": "WoGZ6LByQKC6",
        "colab_type": "text"
      },
      "source": [
        "###Crear embedding"
      ]
    },
    {
      "cell_type": "code",
      "metadata": {
        "id": "w5drXrwvvVvC",
        "colab_type": "code",
        "colab": {}
      },
      "source": [
        "import numpy as np\n",
        "\n",
        "def create_embedding_matrix(filepath, word_index, embedding_dim):\n",
        "    vocab_size = len(word_index) + 1  # Adding again 1 because of reserved 0 index\n",
        "    embedding_matrix = np.zeros((vocab_size, embedding_dim))\n",
        "\n",
        "    with open(filepath) as f:\n",
        "        for line in f:\n",
        "            word, *vector = line.split()\n",
        "            if word in word_index:\n",
        "                idx = word_index[word] \n",
        "                embedding_matrix[idx] = np.array(\n",
        "                    vector, dtype=np.float32)[:embedding_dim]\n",
        "\n",
        "    return embedding_matrix"
      ],
      "execution_count": null,
      "outputs": []
    },
    {
      "cell_type": "code",
      "metadata": {
        "id": "5CzjkfrSy0qC",
        "colab_type": "code",
        "colab": {}
      },
      "source": [
        "embedding_dim = 50\n",
        "embedding_matrix = create_embedding_matrix(\n",
        "    'glove.6B.50d.txt',\n",
        "    tokenizer.word_index, embedding_dim)\n"
      ],
      "execution_count": null,
      "outputs": []
    },
    {
      "cell_type": "markdown",
      "metadata": {
        "id": "XOsqyV9MV13P",
        "colab_type": "text"
      },
      "source": [
        "###Porcentaje del texto cubierto por el embedding"
      ]
    },
    {
      "cell_type": "code",
      "metadata": {
        "id": "BrZL6dpTy9Iq",
        "colab_type": "code",
        "colab": {
          "base_uri": "https://localhost:8080/",
          "height": 34
        },
        "outputId": "3475e50d-14f9-435f-9469-7b5f58020cdd"
      },
      "source": [
        "nonzero_elements = np.count_nonzero(np.count_nonzero(embedding_matrix, axis=1))\n",
        "nonzero_elements / vocab_size\n",
        "\n",
        "print(vocab_size)"
      ],
      "execution_count": null,
      "outputs": [
        {
          "output_type": "stream",
          "text": [
            "5314\n"
          ],
          "name": "stdout"
        }
      ]
    },
    {
      "cell_type": "code",
      "metadata": {
        "id": "uUKA-R8FUD6r",
        "colab_type": "code",
        "colab": {}
      },
      "source": [
        "def load_embed(file):\n",
        "    def get_coefs(word,*arr): \n",
        "        return word, np.asarray(arr[:len(arr)-1], dtype='float32')\n",
        "    \n",
        "    embeddings_index = dict(get_coefs(*o.split(\" \")) for o in open(file) if len(o)>15)\n",
        "        \n",
        "    return embeddings_index\n",
        "    \n",
        "embedding = load_embed('glove.6B.50d.txt')"
      ],
      "execution_count": null,
      "outputs": []
    },
    {
      "cell_type": "code",
      "metadata": {
        "id": "ExTbbSJrTB4w",
        "colab_type": "code",
        "colab": {
          "base_uri": "https://localhost:8080/",
          "height": 104
        },
        "outputId": "14f8369e-145d-427d-e871-fa83b5eb789e"
      },
      "source": [
        "import operator \n",
        "\n",
        "def check_coverage(vocab, embeddings_index):\n",
        "    known_words = {}\n",
        "    unknown_words = {}\n",
        "    for word in vocab.keys():\n",
        "        if word in embeddings_index:\n",
        "            known_words[word] = vocab[word]\n",
        "            continue\n",
        "        unknown_words[word] = vocab[word]\n",
        "\n",
        "    print('Found embeddings for {:.3%} of vocab'.format(len(known_words) / len(vocab)))\n",
        "    num_known_words = np.sum(np.asarray(list(known_words.values())))\n",
        "    num_unknown_words = np.sum(np.asarray(list(unknown_words.values())))\n",
        "    print('Found embeddings for  {:.3%} of all text'.format(float(num_known_words) / (num_known_words + num_unknown_words)))\n",
        "    unknown_words = sorted(unknown_words.items(), key=operator.itemgetter(1))[::-1]\n",
        "\n",
        "    return unknown_words\n",
        "\n",
        "unknown_vocab = check_coverage(tokenizer.word_index, embedding)\n",
        "print(\"unknown vocabulary:\")\n",
        "print(unknown_vocab[:50])"
      ],
      "execution_count": null,
      "outputs": [
        {
          "output_type": "stream",
          "text": [
            "Found embeddings for 88.253% of vocab\n",
            "Found embeddings for  85.067% of all text\n",
            "unknown vocabulary:\n",
            "[('historyâ\\x80\\x94and', 5115), ('dailymirror', 5085), ('tlot', 5078), ('mmot', 5076), ('yâ\\x80\\x99all', 5075), ('hoverboards', 5058), ('iâ\\x80\\x99m', 5056), ('davidduchovny', 5055), ('gilliana', 5054), ('1dhistoryvideo', 5051), ('onedirection', 5050), ('fastâ\\xa0enough', 5041), ('selfie', 5040), ('famousâ\\x80\\x9d', 5026), ('â\\x80\\x9cr', 5025), ('â\\x80\\x98laugh', 5014), ('girlâ\\x80\\x99', 5013), ('â\\x80\\x98sock', 5012), ('talibanswap', 5004), ('blizzard2016', 4994), ('davidsnowie', 4993), ('fergusonunity', 4989), ('24yr', 4971), ('kyliejenner', 4970), ('17yr', 4969), ('orlandoshooting', 4958), ('acarvin', 4945), ('kaitiii', 4938), ('mandaaabearr', 4937), ('weâ\\x80\\x99re', 4933), ('neymarjr', 4916), ('realbencarson', 4913), ('ssies', 4906), ('ð\\x9f\\x94¥', 4902), ('â\\x80¦in', 4881), ('chewonthis', 4858), ('ð\\x9f\\x8e\\x89ð\\x9f\\x94¥', 4856), ('nytopinion', 4855), ('ð\\x9f\\x92\\x95', 4844), ('arianagrande', 4832), ('bagâ\\xa0charge', 4830), ('fox5', 4823), ('islamistheproblem', 4799), ('orphanð\\x9f\\x98¤', 4798), ('tashfeenmalik', 4795), ('shmurda', 4791), ('sharethis', 4781), ('â\\x80\\x93â\\x80¦', 4778), ('saudiarabia', 4776), ('sudair', 4775)]\n"
          ],
          "name": "stdout"
        }
      ]
    },
    {
      "cell_type": "code",
      "metadata": {
        "id": "K2ptesiYKTRM",
        "colab_type": "code",
        "colab": {
          "base_uri": "https://localhost:8080/",
          "height": 1000
        },
        "outputId": "b4f67f9c-f1b2-4d68-e42b-dd2e6fdec69f"
      },
      "source": [
        "from keras.models import Sequential, Model\n",
        "from keras.layers import Dense, Activation\n",
        "from keras.layers import Flatten, Conv1D, SpatialDropout1D, MaxPooling1D,AveragePooling1D, merge, concatenate, Input, Dropout, Embedding\n",
        "\n",
        "# ONE LAYER\n",
        "def model(output_dim=8, max_length=50, y_dim=5, num_filters=5, filter_sizes = [3,5], pooling = 'max', pool_padding = 'valid', dropout = 0.2):\n",
        "    # Input Layer\n",
        "#     embed_input = Input(shape=(max_length,output_dim))\n",
        "    embed_input = Input(shape=(max_length,))\n",
        "    x = Embedding(vocab_size,output_dim,input_length=max_length)(embed_input)\n",
        "#     x = SpatialDropout1D(0.2)(x)\n",
        "    ## concat\n",
        "    pooled_outputs = []\n",
        "    for i in range(len(filter_sizes)):\n",
        "        conv = Conv1D(num_filters, kernel_size=filter_sizes[i], padding='valid', activation='relu')(x)\n",
        "        if pooling=='max':\n",
        "            conv = MaxPooling1D(pool_size=max_length-filter_sizes[i]+1, strides=1, padding = pool_padding)(conv)\n",
        "        else:\n",
        "            conv = AveragePooling1D(pool_size=max_length-filter_sizes[i]+1, strides=1, padding = pool_padding)(conv)            \n",
        "        pooled_outputs.append(conv)\n",
        "    merge = concatenate(pooled_outputs)\n",
        "    x = MaxPooling1D(1)(merge)\n",
        "    x = Flatten()(x)\n",
        "\n",
        "    x = Dropout(dropout)(x)\n",
        "#     predictions = Dense(y_dim, activation = 'sigmoid')(x)\n",
        "    predictions = Dense(y_dim, activation = 'sigmoid')(x) # TEST\n",
        "    \n",
        "    model = Model(inputs=embed_input,outputs=predictions)\n",
        "\n",
        "    model.compile(optimizer='adam',loss = 'categorical_crossentropy', metrics = ['acc'])\n",
        "    print(model.summary())\n",
        "    \n",
        "    from keras.utils import plot_model\n",
        "    plot_model(model, to_file='shared_input_layer.png')\n",
        "    \n",
        "    return model\n",
        "\n",
        "\n",
        "model = model(output_dim=16, max_length=50,y_dim=4,filter_sizes = [3,4,5],pooling = 'max',dropout=0.3)\n",
        "from IPython.display import Image\n",
        "Image(filename='shared_input_layer.png') "
      ],
      "execution_count": null,
      "outputs": [
        {
          "output_type": "stream",
          "text": [
            "Model: \"model_4\"\n",
            "__________________________________________________________________________________________________\n",
            "Layer (type)                    Output Shape         Param #     Connected to                     \n",
            "==================================================================================================\n",
            "input_4 (InputLayer)            (None, 50)           0                                            \n",
            "__________________________________________________________________________________________________\n",
            "embedding_4 (Embedding)         (None, 50, 16)       81872       input_4[0][0]                    \n",
            "__________________________________________________________________________________________________\n",
            "conv1d_10 (Conv1D)              (None, 48, 5)        245         embedding_4[0][0]                \n",
            "__________________________________________________________________________________________________\n",
            "conv1d_11 (Conv1D)              (None, 47, 5)        325         embedding_4[0][0]                \n",
            "__________________________________________________________________________________________________\n",
            "conv1d_12 (Conv1D)              (None, 46, 5)        405         embedding_4[0][0]                \n",
            "__________________________________________________________________________________________________\n",
            "max_pooling1d_13 (MaxPooling1D) (None, 1, 5)         0           conv1d_10[0][0]                  \n",
            "__________________________________________________________________________________________________\n",
            "max_pooling1d_14 (MaxPooling1D) (None, 1, 5)         0           conv1d_11[0][0]                  \n",
            "__________________________________________________________________________________________________\n",
            "max_pooling1d_15 (MaxPooling1D) (None, 1, 5)         0           conv1d_12[0][0]                  \n",
            "__________________________________________________________________________________________________\n",
            "concatenate_4 (Concatenate)     (None, 1, 15)        0           max_pooling1d_13[0][0]           \n",
            "                                                                 max_pooling1d_14[0][0]           \n",
            "                                                                 max_pooling1d_15[0][0]           \n",
            "__________________________________________________________________________________________________\n",
            "max_pooling1d_16 (MaxPooling1D) (None, 1, 15)        0           concatenate_4[0][0]              \n",
            "__________________________________________________________________________________________________\n",
            "flatten_4 (Flatten)             (None, 15)           0           max_pooling1d_16[0][0]           \n",
            "__________________________________________________________________________________________________\n",
            "dropout_4 (Dropout)             (None, 15)           0           flatten_4[0][0]                  \n",
            "__________________________________________________________________________________________________\n",
            "dense_4 (Dense)                 (None, 4)            64          dropout_4[0][0]                  \n",
            "==================================================================================================\n",
            "Total params: 82,911\n",
            "Trainable params: 82,911\n",
            "Non-trainable params: 0\n",
            "__________________________________________________________________________________________________\n",
            "None\n"
          ],
          "name": "stdout"
        },
        {
          "output_type": "execute_result",
          "data": {
            "image/png": "[encoded data removed]",
            "text/plain": [
              "<IPython.core.display.Image object>"
            ]
          },
          "metadata": {
            "tags": []
          },
          "execution_count": 38
        }
      ]
    },
    {
      "cell_type": "code",
      "metadata": {
        "id": "yDgjfbrELQ_7",
        "colab_type": "code",
        "colab": {
          "base_uri": "https://localhost:8080/",
          "height": 1000
        },
        "outputId": "924943df-0a7f-44e7-d52d-860d00bcd670"
      },
      "source": [
        "history = model.fit(X_train, y_train,\n",
        "                    epochs=30,\n",
        "                    verbose=True,\n",
        "                    validation_data=(X_val, y_val),\n",
        "                    batch_size=32)"
      ],
      "execution_count": null,
      "outputs": [
        {
          "output_type": "stream",
          "text": [
            "/usr/local/lib/python3.6/dist-packages/tensorflow/python/framework/indexed_slices.py:434: UserWarning: Converting sparse IndexedSlices to a dense Tensor of unknown shape. This may consume a large amount of memory.\n",
            "  \"Converting sparse IndexedSlices to a dense Tensor of unknown shape. \"\n"
          ],
          "name": "stderr"
        },
        {
          "output_type": "stream",
          "text": [
            "Train on 1540 samples, validate on 386 samples\n",
            "Epoch 1/30\n",
            "1540/1540 [==============================] - 0s 297us/step - loss: 1.3778 - acc: 0.3052 - val_loss: 1.3764 - val_acc: 0.3653\n",
            "Epoch 2/30\n",
            "1540/1540 [==============================] - 0s 163us/step - loss: 1.3564 - acc: 0.4221 - val_loss: 1.3651 - val_acc: 0.4326\n",
            "Epoch 3/30\n",
            "1540/1540 [==============================] - 0s 163us/step - loss: 1.3270 - acc: 0.5584 - val_loss: 1.3462 - val_acc: 0.5000\n",
            "Epoch 4/30\n",
            "1540/1540 [==============================] - 0s 160us/step - loss: 1.2878 - acc: 0.6058 - val_loss: 1.3135 - val_acc: 0.5596\n",
            "Epoch 5/30\n",
            "1540/1540 [==============================] - 0s 160us/step - loss: 1.2180 - acc: 0.6753 - val_loss: 1.2574 - val_acc: 0.5855\n",
            "Epoch 6/30\n",
            "1540/1540 [==============================] - 0s 164us/step - loss: 1.1184 - acc: 0.6942 - val_loss: 1.1740 - val_acc: 0.5933\n",
            "Epoch 7/30\n",
            "1540/1540 [==============================] - 0s 169us/step - loss: 0.9818 - acc: 0.7370 - val_loss: 1.0706 - val_acc: 0.6088\n",
            "Epoch 8/30\n",
            "1540/1540 [==============================] - 0s 167us/step - loss: 0.8330 - acc: 0.8039 - val_loss: 0.9644 - val_acc: 0.6399\n",
            "Epoch 9/30\n",
            "1540/1540 [==============================] - 0s 169us/step - loss: 0.6853 - acc: 0.8448 - val_loss: 0.8690 - val_acc: 0.6891\n",
            "Epoch 10/30\n",
            "1540/1540 [==============================] - 0s 166us/step - loss: 0.5462 - acc: 0.8844 - val_loss: 0.7903 - val_acc: 0.7176\n",
            "Epoch 11/30\n",
            "1540/1540 [==============================] - 0s 174us/step - loss: 0.4478 - acc: 0.8974 - val_loss: 0.7347 - val_acc: 0.7306\n",
            "Epoch 12/30\n",
            "1540/1540 [==============================] - 0s 162us/step - loss: 0.3485 - acc: 0.9169 - val_loss: 0.6937 - val_acc: 0.7332\n",
            "Epoch 13/30\n",
            "1540/1540 [==============================] - 0s 169us/step - loss: 0.2980 - acc: 0.9253 - val_loss: 0.6701 - val_acc: 0.7280\n",
            "Epoch 14/30\n",
            "1540/1540 [==============================] - 0s 165us/step - loss: 0.2496 - acc: 0.9442 - val_loss: 0.6504 - val_acc: 0.7487\n",
            "Epoch 15/30\n",
            "1540/1540 [==============================] - 0s 163us/step - loss: 0.2172 - acc: 0.9506 - val_loss: 0.6363 - val_acc: 0.7513\n",
            "Epoch 16/30\n",
            "1540/1540 [==============================] - 0s 160us/step - loss: 0.1960 - acc: 0.9526 - val_loss: 0.6391 - val_acc: 0.7358\n",
            "Epoch 17/30\n",
            "1540/1540 [==============================] - 0s 177us/step - loss: 0.1658 - acc: 0.9617 - val_loss: 0.6341 - val_acc: 0.7358\n",
            "Epoch 18/30\n",
            "1540/1540 [==============================] - 0s 158us/step - loss: 0.1410 - acc: 0.9688 - val_loss: 0.6363 - val_acc: 0.7332\n",
            "Epoch 19/30\n",
            "1540/1540 [==============================] - 0s 170us/step - loss: 0.1347 - acc: 0.9701 - val_loss: 0.6349 - val_acc: 0.7383\n",
            "Epoch 20/30\n",
            "1540/1540 [==============================] - 0s 160us/step - loss: 0.1313 - acc: 0.9688 - val_loss: 0.6393 - val_acc: 0.7358\n",
            "Epoch 21/30\n",
            "1540/1540 [==============================] - 0s 163us/step - loss: 0.1321 - acc: 0.9643 - val_loss: 0.6433 - val_acc: 0.7513\n",
            "Epoch 22/30\n",
            "1540/1540 [==============================] - 0s 160us/step - loss: 0.1170 - acc: 0.9708 - val_loss: 0.6472 - val_acc: 0.7435\n",
            "Epoch 23/30\n",
            "1540/1540 [==============================] - 0s 171us/step - loss: 0.1056 - acc: 0.9695 - val_loss: 0.6508 - val_acc: 0.7487\n",
            "Epoch 24/30\n",
            "1540/1540 [==============================] - 0s 159us/step - loss: 0.0963 - acc: 0.9779 - val_loss: 0.6560 - val_acc: 0.7461\n",
            "Epoch 25/30\n",
            "1540/1540 [==============================] - 0s 162us/step - loss: 0.0963 - acc: 0.9740 - val_loss: 0.6599 - val_acc: 0.7513\n",
            "Epoch 26/30\n",
            "1540/1540 [==============================] - 0s 167us/step - loss: 0.0810 - acc: 0.9831 - val_loss: 0.6638 - val_acc: 0.7513\n",
            "Epoch 27/30\n",
            "1540/1540 [==============================] - 0s 165us/step - loss: 0.0687 - acc: 0.9857 - val_loss: 0.6658 - val_acc: 0.7539\n",
            "Epoch 28/30\n",
            "1540/1540 [==============================] - 0s 165us/step - loss: 0.0731 - acc: 0.9786 - val_loss: 0.6677 - val_acc: 0.7539\n",
            "Epoch 29/30\n",
            "1540/1540 [==============================] - 0s 164us/step - loss: 0.0728 - acc: 0.9812 - val_loss: 0.6712 - val_acc: 0.7591\n",
            "Epoch 30/30\n",
            "1540/1540 [==============================] - 0s 168us/step - loss: 0.0687 - acc: 0.9805 - val_loss: 0.6783 - val_acc: 0.7487\n"
          ],
          "name": "stdout"
        }
      ]
    },
    {
      "cell_type": "code",
      "metadata": {
        "id": "heyRzKQ_hEgO",
        "colab_type": "code",
        "colab": {
          "base_uri": "https://localhost:8080/",
          "height": 545
        },
        "outputId": "ba82c4a7-0e19-4308-b75f-d6e2757bda55"
      },
      "source": [
        "import matplotlib.pyplot as plt\n",
        "\n",
        "acc = history.history['acc']\n",
        "val_acc = history.history['val_acc']\n",
        "loss = history.history['loss']\n",
        "val_loss = history.history['val_loss']\n",
        "\n",
        "epochs = range(len(mae))\n",
        "\n",
        "plt.plot(epochs, acc, 'bo', label='Training mae')\n",
        "plt.plot(epochs, val_acc, 'b', label='Validation mae')\n",
        "plt.title('Training and validation accuracy')\n",
        "plt.legend()\n",
        "\n",
        "plt.figure()\n",
        "\n",
        "plt.plot(epochs, loss, 'bo', label='Training loss')\n",
        "plt.plot(epochs, val_loss, 'b', label='Validation loss')\n",
        "plt.title('Training and validation loss')\n",
        "plt.legend()\n",
        "\n",
        "plt.show()"
      ],
      "execution_count": null,
      "outputs": [
        {
          "output_type": "display_data",
          "data": {
            "image/png": "[encoded data removed]",
            "text/plain": [
              "<Figure size 432x288 with 1 Axes>"
            ]
          },
          "metadata": {
            "tags": [],
            "needs_background": "light"
          }
        },
        {
          "output_type": "display_data",
          "data": {
            "image/png": "[encoded data removed]",
            "text/plain": [
              "<Figure size 432x288 with 1 Axes>"
            ]
          },
          "metadata": {
            "tags": [],
            "needs_background": "light"
          }
        }
      ]
    },
    {
      "cell_type": "code",
      "metadata": {
        "id": "RFoRG-Eb0fTB",
        "colab_type": "code",
        "colab": {
          "base_uri": "https://localhost:8080/",
          "height": 123
        },
        "outputId": "10069c0c-0b6f-4b46-8e38-343a9c51aec6"
      },
      "source": [
        "predicciones = model.predict(X_test)\n",
        "# predicciones[0]\n",
        "predicciones = np.argmax(predicciones, axis=1)\n",
        "\n",
        "print(predicciones)\n",
        "predicciones = le.inverse_transform(predicciones)\n",
        "\n",
        "# predicciones.shape\n",
        "# # nombres = [f'test_{i}' for i in range(1023)]\n",
        "# # ids.insert(0, 'id')\n",
        "# # predicciones.insert(0, 'label')\n",
        "import csv\n",
        "\n",
        "with open('test.csv', 'w') as f:\n",
        "    writer = csv.writer(f)\n",
        "    writer.writerows(zip(predicciones, df_test.id))"
      ],
      "execution_count": null,
      "outputs": [
        {
          "output_type": "stream",
          "text": [
            "[1 3 0 2 0 0 0 0 2 3 3 1 1 1 2 2 1 2 1 0 0 3 2 0 1 2 1 2 2 1 1 1 0 3 0 1 2\n",
            " 2 2 2 1 3 2 1 2 3 2 0 2 2 0 0 1 0 3 2 2 0 1 2 1 0 0 1 1 2 0 2 0 2 0 0 2 2\n",
            " 3 0 0 2 2 2 2 2 1 0 1 0 1 0 1 1 2 3 3 2 0 1 0 0 0 1 0 3 3 2 1 2 1 2 2 1 0\n",
            " 1 1 0 2 2 0 0 1 2 1 1 1 3 0 2 3 3 0 0 0 2 2 1 2 2 0 1 0 1 2 0 2 1 2 3 2 1\n",
            " 1 0 1 2 0 0 2 2 0 2 3 3 2 1 0 0 0 2 3 0 3 3 2 2 2 2 1 0 1 1 3 1 0 0 0 0 2\n",
            " 2 0 3 0 0 1 1 0 2 1 0 0 3 3 1 0 0 0 1 2 2 2 0 0 1 2 1 1]\n"
          ],
          "name": "stdout"
        }
      ]
    }
  ]
}